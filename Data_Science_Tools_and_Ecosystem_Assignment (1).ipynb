{
 "cells": [
  {
   "cell_type": "markdown",
   "id": "fb58e4ba",
   "metadata": {},
   "source": [
    "# Data Science Tools and Ecosystem"
   ]
  },
  {
   "cell_type": "markdown",
   "id": "c0ce2827",
   "metadata": {},
   "source": [
    "**Exercise 2:** In this notebook, Data Science Tools and Ecosystem are summarized."
   ]
  },
  {
   "cell_type": "markdown",
   "id": "4329cafb",
   "metadata": {},
   "source": [
    "**Exercise 3:** Objectives"
   ]
  },
  {
   "cell_type": "markdown",
   "id": "c6491c51",
   "metadata": {},
   "source": [
    "\n",
    "- List popular languages for Data Science  \n",
    "- List commonly used libraries in Data Science  \n",
    "- Create tables with Data Science Tools  \n",
    "- Demonstrate arithmetic expressions in Python  \n",
    "- Convert minutes to hours  \n"
   ]
  },
  {
   "cell_type": "markdown",
   "id": "a52b0b12",
   "metadata": {},
   "source": [
    "**Exercise 4:** Some of the popular languages that Data Scientists use are:"
   ]
  },
  {
   "cell_type": "markdown",
   "id": "e27d124f",
   "metadata": {},
   "source": [
    "\n",
    "1. Python  \n",
    "2. R  \n",
    "3. SQL  \n",
    "4. Julia  \n"
   ]
  },
  {
   "cell_type": "markdown",
   "id": "c22379e2",
   "metadata": {},
   "source": [
    "**Exercise 5:** Some of the commonly used libraries used by Data Scientists include:"
   ]
  },
  {
   "cell_type": "markdown",
   "id": "a9d2fc74",
   "metadata": {},
   "source": [
    "\n",
    "1. Pandas  \n",
    "2. NumPy  \n",
    "3. Matplotlib  \n",
    "4. Scikit-learn  \n"
   ]
  },
  {
   "cell_type": "markdown",
   "id": "4c4550a8",
   "metadata": {},
   "source": [
    "**Exercise 6:** Data Science Tools"
   ]
  },
  {
   "cell_type": "code",
   "execution_count": null,
   "id": "ac3c0430",
   "metadata": {},
   "outputs": [],
   "source": [
    "\n",
    "from tabulate import tabulate\n",
    "\n",
    "# Creating a simple table of Data Science Tools\n",
    "tools = [[\"RStudio\"], [\"Apache Spark\"], [\"TensorFlow\"]]\n",
    "\n",
    "print(tabulate(tools, headers=[\"Data Science Tools\"], tablefmt=\"grid\"))\n"
   ]
  },
  {
   "cell_type": "markdown",
   "id": "60d7eca4",
   "metadata": {},
   "source": [
    "**Exercise 7:** Below are a few examples of evaluating arithmetic expressions in Python"
   ]
  },
  {
   "cell_type": "code",
   "execution_count": null,
   "id": "a5668008",
   "metadata": {},
   "outputs": [],
   "source": [
    "\n",
    "# Example 1: Addition\n",
    "2 + 3\n"
   ]
  },
  {
   "cell_type": "code",
   "execution_count": null,
   "id": "ee42a9d0",
   "metadata": {},
   "outputs": [],
   "source": [
    "\n",
    "# Example 2: Multiplication\n",
    "5 * 6\n"
   ]
  },
  {
   "cell_type": "markdown",
   "id": "d6237c22",
   "metadata": {},
   "source": [
    "**Exercise 8:** This is a simple arithmetic expression to multiply then add integers"
   ]
  },
  {
   "cell_type": "code",
   "execution_count": null,
   "id": "f646377b",
   "metadata": {},
   "outputs": [],
   "source": [
    "\n",
    "# Multiply 3 by 4 and then add 5\n",
    "result = (3 * 4) + 5\n",
    "result\n"
   ]
  },
  {
   "cell_type": "markdown",
   "id": "00971e0f",
   "metadata": {},
   "source": [
    "**Exercise 9:** This will convert 200 minutes to hours by dividing by 60"
   ]
  },
  {
   "cell_type": "code",
   "execution_count": null,
   "id": "d1071be6",
   "metadata": {},
   "outputs": [],
   "source": [
    "\n",
    "# Convert minutes to hours\n",
    "minutes = 200\n",
    "hours = minutes / 60\n",
    "hours\n"
   ]
  },
  {
   "cell_type": "markdown",
   "id": "a8d6cccd",
   "metadata": {},
   "source": [
    "**Exercise 10:** Objectives Recap"
   ]
  },
  {
   "cell_type": "markdown",
   "id": "ef7b4b85",
   "metadata": {},
   "source": [
    "\n",
    "- List popular languages for Data Science  \n",
    "- List commonly used libraries in Data Science  \n",
    "- Create tables with Data Science Tools  \n",
    "- Demonstrate arithmetic expressions in Python  \n",
    "- Convert minutes to hours  \n"
   ]
  },
  {
   "cell_type": "markdown",
   "id": "a843f7e3",
   "metadata": {},
   "source": [
    "**Exercise 11:** Author"
   ]
  },
  {
   "cell_type": "markdown",
   "id": "e484544f",
   "metadata": {},
   "source": [
    "**Author:** Ajeet Singh"
   ]
  }
 ],
 "metadata": {},
 "nbformat": 4,
 "nbformat_minor": 5
}